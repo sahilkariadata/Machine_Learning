{
 "cells": [
  {
   "cell_type": "markdown",
   "metadata": {},
   "source": [
    "<H1 style=\"text-align: center\">ECMM422 - Machine Learning</H1>\n",
    "<H2 style=\"text-align: center\">Assignment 4: Reinforcement Learning</H2>"
   ]
  },
  {
   "cell_type": "markdown",
   "metadata": {},
   "source": [
    "| Date set     | Hand-in date |\n",
    "|:------------------|:-----------------------------------|\n",
    "| 6th March 2020  | **  Wednesday 18th March ** |\n",
    "\n",
    "\n",
    "<b> Student Number: 660022200 </b>\n",
    "\n",
    "This workshop is worth 25% of the total module mark.\n",
    "\n"
   ]
  },
  {
   "cell_type": "markdown",
   "metadata": {},
   "source": [
    "\n",
    "\n",
    "Your report should consist of your IPython notebook showing what you did, what was the\n",
    "result, and what you can conclude from the exercise. Each report will be\n",
    "assessed on the following criteria:\n",
    "\n",
    "* Does it record what was done in the exercise?\n",
    "* Does it permit the results to be reproduced?\n",
    "* How does the work relate to the theoretical foundations discussed in lectures?\n",
    "* Is it well presented?\n",
    "\n",
    "### Submitting the notebooks\n",
    "\n",
    "Note that an electronic submission is required.  You should also submit the notebook electronically at [electronic hand-in system]( http://empslocal.ex.ac.uk/submit/).  You just need to submit the single .ipynb file that is the notebook, so you should be able to upload it directly from the directory where you have saved it on a University machine or your laptop.  If you're not sure where in your homespace it is, type <code>pwd</code> (print working directory) in a cell to find out where the notebooks are.\n",
    "\n",
    "<b>Note: you must also submit your cover sheet and E-Submit receipt via BART to complete the submission.</b>\n"
   ]
  },
  {
   "cell_type": "markdown",
   "metadata": {},
   "source": [
    "<div class=\"alert alert-info\">\n",
    "Although you will undoubtedly work collaboratively in the workshops themselves, these are *individual* exercises.  The reports you write should be about the results *you* obtained, and your attention is drawn to the College and University guidelines on collaboration and plagiarism. \n",
    "</div>\n"
   ]
  },
  {
   "cell_type": "code",
   "execution_count": 144,
   "metadata": {},
   "outputs": [],
   "source": [
    "# including libraries as usual\n",
    "import matplotlib.pyplot as plt\n",
    "import numpy as np\n"
   ]
  },
  {
   "cell_type": "markdown",
   "metadata": {},
   "source": [
    "# Gridworld example\n",
    "\n",
    "The following code will provide you with a working gridworld problem. You are asked to study the code and use it to provide a solution in the following questions. \n"
   ]
  },
  {
   "cell_type": "code",
   "execution_count": 145,
   "metadata": {},
   "outputs": [
    {
     "name": "stdout",
     "output_type": "stream",
     "text": [
      "Grid world:\n",
      "+-+-+-+-+-+-+\n",
      "| | | | | | |\n",
      "+-+-+-+-+-+-+\n",
      "| | | | | | |\n",
      "+-+-+-+-+-+-+\n",
      "| | | | | | |\n",
      "+-+-+-+-+-+-+\n",
      "|S|X|X|X|X|G|\n",
      "+-+-+-+-+-+-+\n",
      "\n",
      "GridWorld state indexing:\n",
      "[[0. 0. 0. 0. 0. 0.]\n",
      " [0. 0. 0. 0. 0. 0.]\n",
      " [0. 0. 0. 0. 0. 0.]\n",
      " [3. 2. 2. 2. 2. 1.]]\n"
     ]
    }
   ],
   "source": [
    "class GridWorld: \n",
    "    '''\n",
    "    Class implementing a typical GridWorld problem. \n",
    "    \n",
    "    '''\n",
    "    \n",
    "    \n",
    "    def __init__(self, width, height, gamma=1, penalty=-1, start=[0,0], goal=[0,0], cliff=[], cliff_penalty=-100):\n",
    "        '''\n",
    "        Generates a new Gridworld problem, with a grid of size (width,height). \n",
    "        gamma: reward discoount parameter (default:1)\n",
    "        penalty: penalty for each move (default:-1)\n",
    "        start: start location (default: [0,0])\n",
    "        goal: goal location (default: [0,0])\n",
    "        cliff: list of locations defined as cliff (the agent incurs a large penalty for walking into cliffs and is transported back to the start). \n",
    "        cliff_penalty: penalty incurred for walking into a cliff (default: -100). \n",
    "        '''\n",
    "        # define the four possible actions\n",
    "        self.gamma = gamma\n",
    "        self.actions = range(4)\n",
    "        self.delta = np.array([[0,-1],[+1,0],[0,+1],[-1,0]])\n",
    "        self.actions_labels = ['up','right','down','left']\n",
    "        \n",
    "        self.states = range(width*height)\n",
    "\n",
    "        self.width = width\n",
    "        self.height = height\n",
    "        \n",
    "        # set the start state\n",
    "        self.start = self.encode_state(start)     \n",
    "\n",
    "        self.cliff = [self.encode_state(s) for s in cliff]\n",
    "        self.goal = self.encode_state(goal)\n",
    "        self.penalty = penalty\n",
    "        self.cliff_penalty = cliff_penalty\n",
    "        self.grid = np.zeros((height,width))\n",
    "        for c in range(width): \n",
    "            for r in range(height): \n",
    "                if [c,r] == goal: \n",
    "                    self.grid[r,c] = 1\n",
    "                elif [c,r] in cliff: \n",
    "                    self.grid[r,c] = 2\n",
    "                elif [c,r] == start: \n",
    "                    self.grid[r,c] = 3\n",
    "        \n",
    "    def line_string(self):\n",
    "        s = '+'\n",
    "        for j in range(self.width):\n",
    "            s += '-+'\n",
    "        s += '\\n'\n",
    "        return s\n",
    "        \n",
    "    def tostring(self): \n",
    "        '''\n",
    "            Converts the grid world to a formatted string. \n",
    "        '''\n",
    "        s = 'Grid world:\\n'\n",
    "        for r in range(self.height): \n",
    "            s += self.line_string()\n",
    "            s += '|'\n",
    "            for c in range(self.width):                 \n",
    "                if self.grid[r,c] == 1: \n",
    "                    s += 'G'\n",
    "                elif self.grid[r,c] == 2: \n",
    "                    s += 'X'\n",
    "                elif self.grid[r,c] == 3:\n",
    "                    s += 'S'\n",
    "                else: \n",
    "                    s += ' '\n",
    "                s += '|'\n",
    "            s += '\\n'\n",
    "            \n",
    "        s += self.line_string()\n",
    "        return s    \n",
    "    \n",
    "    def print_solution(self,S): \n",
    "        '''\n",
    "        Graphical display of a solution S, given as a list of states that brings from the initial state to the goal. \n",
    "        '''\n",
    "        s = 'Solution:\\n'\n",
    "        for r in range(self.height): \n",
    "            s += self.line_string()\n",
    "            s += '|'\n",
    "            for c in range(self.width):                 \n",
    "                p = self.encode_state((c,r))                \n",
    "                \n",
    "                if self.grid[r,c] == 1: \n",
    "                    s += 'G'\n",
    "                elif self.grid[r,c] == 3:\n",
    "                    s += 'S'\n",
    "                elif p in S:\n",
    "                    if p == S[-1]:\n",
    "                        s += '@'\n",
    "                    else:\n",
    "                        s += '*'\n",
    "                elif self.grid[r,c] == 2: \n",
    "                    s += 'X'\n",
    "                else: \n",
    "                    s += ' '\n",
    "                s += '|'\n",
    "            s += '\\n'\n",
    "            \n",
    "        s += self.line_string()\n",
    "        return s \n",
    "    \n",
    "    def show_states(self):\n",
    "        '''\n",
    "        Displays state IDs on a grid. \n",
    "        '''\n",
    "        print( np.array(self.states).reshape((self.width,self.height)).T )\n",
    "    \n",
    "    def encode_state(self,coord):\n",
    "        '''\n",
    "        Converts a tuple (c,r) containing grid coordinates to the corresponding (scalar) state ID. \n",
    "        '''\n",
    "        (c,r) = coord\n",
    "        if r<self.height and c<self.width and r>=0 and c>=0: \n",
    "            return int(c*self.height+r)\n",
    "        else: \n",
    "            return -1\n",
    "    \n",
    "    def decode_state(self,s): \n",
    "        '''\n",
    "        Converts a state ID into grid coordinates. \n",
    "        '''\n",
    "        return (s//self.height,s%self.height)\n",
    "        \n",
    "    def state_action_state(self,s,a): \n",
    "        '''\n",
    "        Generates the next state and associated reward for a state/action pair. \n",
    "        '''\n",
    "        \n",
    "        ns = self.encode_state(self.decode_state(s) + self.delta[a,:])\n",
    "        \n",
    "        if ns in self.cliff: \n",
    "            return [(self.start, self.cliff_penalty)]\n",
    "        \n",
    "        # if an invalid state is generated, stay where we are\n",
    "        elif ns < 0: \n",
    "            return [(s,self.penalty)]\n",
    "        \n",
    "        # if the goal is reached, no penalty incurred. \n",
    "        elif ns == self.goal: \n",
    "            return [(ns,0)]\n",
    "        \n",
    "        else: \n",
    "            return [(ns,self.penalty)]\n",
    "        \n",
    "    def state_transition(self,s): \n",
    "        '''\n",
    "        Generates lists of all possible action/next state/reward triplets for the current state. \n",
    "        Returns a triplet of lists (sv,pv,rv), with one element per action, where: \n",
    "        sv[a] is the next state following the action a.\n",
    "        pv[a] is the likelihood to select action a (policy). \n",
    "        rv[a] is the immediate reward of selecting action a. \n",
    "        '''\n",
    "        \n",
    "        sv = np.zeros(len(self.actions),dtype='uint')\n",
    "        pv = np.zeros(len(self.actions))\n",
    "        rv = np.zeros(len(self.actions))\n",
    "        \n",
    "        for a in self.actions: \n",
    "            (s2,r2) = self.state_action_state(s,a)[0]\n",
    "            sv[a] = s2\n",
    "            pv[a] = 1.0/len(self.actions)\n",
    "            rv[a] = r2\n",
    "            \n",
    "        return (sv,rv,pv)\n",
    "            \n",
    "world = GridWorld(6,4, gamma=0.9, goal=[5,3], start=[0,3], cliff=[[1,3],[2,3],[3,3],[4,3]])\n",
    "print( world.tostring() )\n",
    "\n",
    "print('GridWorld state indexing:')\n",
    "print(world.grid)"
   ]
  },
  {
   "cell_type": "markdown",
   "metadata": {},
   "source": [
    "## 1. Policy evaluation\n",
    "\n",
    "One simple way to solve a reinforcement learning problem is to estimate the value function for the whole problem and then apply a greedy strategy to find the goal. In the first part you are asked to evaluate the value function V(s) for all states (ie, grid cells), using <b>policy iteration</b>, as discussed in class. \n",
    "Iterative policy evaluation proposes an update of the value function based on the recursive formulation of the <i>Bellman equation</i>: \n",
    "\n",
    "$$\n",
    "V^{(t+1)}(S_t) \\leftarrow \\sum_{S_{t+1},R_{t+1}} p\\left[S_{t+1},R_{t+1}|S_t,\\pi(S_t)\\right] \\left(R_{t+1}+\\gamma V^{t}(S_{t+1})\\right)\n",
    "$$\n",
    "\n",
    "In this part, you will:\n",
    "\n",
    "a. Estimate the value of V(s) using policy iteration. Each step of policy iteration will take as parameter the problem to be solved (which will provide the required functions) and the current estimate of the value function (as an array with length equal to the grid size). \n",
    "<div style=\"text-align: right\"><b>[10 marks]</b></div>\n",
    "\n",
    "b. Print out the estimated value function after 1,2,5 and 10 iterations. \n",
    "<div style=\"text-align: right\"><b>[10 marks]</b></div>\n",
    "\n",
    "c. Provide a solution using a greedy strategy and the estimated value function. Print it out using the print_solution() method. \n",
    "<div style=\"text-align: right\"><b>[10 marks]</b></div>"
   ]
  },
  {
   "cell_type": "code",
   "execution_count": 146,
   "metadata": {},
   "outputs": [
    {
     "name": "stdout",
     "output_type": "stream",
     "text": [
      "Grid world:\n",
      "+-+-+-+-+-+\n",
      "|S| | | | |\n",
      "+-+-+-+-+-+\n",
      "| | | | | |\n",
      "+-+-+-+-+-+\n",
      "| | | | | |\n",
      "+-+-+-+-+-+\n",
      "| | | | | |\n",
      "+-+-+-+-+-+\n",
      "| | | | |G|\n",
      "+-+-+-+-+-+\n",
      "\n",
      "[[ 0  5 10 15 20]\n",
      " [ 1  6 11 16 21]\n",
      " [ 2  7 12 17 22]\n",
      " [ 3  8 13 18 23]\n",
      " [ 4  9 14 19 24]]\n",
      "Initial value function:\n",
      "[[-105.82 -103.82 -100.38  -96.62  -94.07]\n",
      " [-103.82 -101.26  -96.7   -91.41  -87.53]\n",
      " [-100.38  -96.7   -89.74  -80.79  -73.1 ]\n",
      " [ -96.62  -91.41  -80.79  -64.89  -47.  ]\n",
      " [ -94.07  -87.53  -73.1   -47.      0.  ]]\n"
     ]
    }
   ],
   "source": [
    "world = GridWorld(5,5, gamma=1, start=[0,0], goal=[4,4])\n",
    "#world = GridWorld(5,5, gamma=0.9, start=[0,0], goal=[4,4])\n",
    "print(world.tostring())\n",
    "\n",
    "np.set_printoptions(precision=2)\n",
    "\n",
    "world.show_states()\n",
    "\n",
    "print('Initial value function:')\n",
    "V = np.zeros(len(world.states))\n",
    "\n",
    "############ Function that carries out 1 iteration of Policy Iteration ############\n",
    "def policy_iteration(V,world):\n",
    "    newV = np.copy(V)\n",
    "    for s in world.states:\n",
    "        sv, rv, pv = world.state_transition(s = s)\n",
    "        wRewards = 0\n",
    "        if s != world.goal:\n",
    "            for a in world.actions:\n",
    "                wRewards = wRewards + (1/len(world.actions))*(rv[a]+(world.gamma*V[sv[a]]))\n",
    "                #wRewards = wRewards + pv[a]*(rv[a]+(world.gamma*V[sv[a]]))\n",
    "        \n",
    "        newV[s] = wRewards\n",
    "\n",
    "    return newV\n",
    "\n",
    "########## Function that does Policy iteration until the difference between the Value at states is smaller than epsilon #########\n",
    "def policy_iteration_alt(V,world,eps):\n",
    "    d = 0\n",
    "    cond = 1\n",
    "    while cond == 1:\n",
    "        newV = np.copy(V)\n",
    "        for s in world.states:\n",
    "            sv, rv, pv = world.state_transition(s = s)\n",
    "            wRewards = 0\n",
    "            if s != world.goal:\n",
    "                for a in world.actions:\n",
    "                    wRewards = wRewards + (1/len(world.actions))*(rv[a]+(world.gamma*V[sv[a]]))\n",
    "                    #wRewards = wRewards + pv[a]*(rv[a]+(world.gamma*V[sv[a]])) #works too\n",
    "                \n",
    "            newV[s] = wRewards\n",
    "\n",
    "        d = np.min(np.abs(V[0:(world.goal-1)]-newV[0:(world.goal-1)]))\n",
    "        if d < eps:\n",
    "            cond = 0\n",
    "        V = newV\n",
    "        \n",
    "    return V\n",
    "\n",
    "\n",
    "V = policy_iteration_alt(V,world,1e-5)\n",
    "print(V.reshape((world.width,world.height)).T)"
   ]
  },
  {
   "cell_type": "code",
   "execution_count": 147,
   "metadata": {},
   "outputs": [
    {
     "name": "stdout",
     "output_type": "stream",
     "text": [
      "iteration 1\n",
      "[[-1.   -1.   -1.   -1.   -1.  ]\n",
      " [-1.   -1.   -1.   -1.   -1.  ]\n",
      " [-1.   -1.   -1.   -1.   -1.  ]\n",
      " [-1.   -1.   -1.   -1.   -0.75]\n",
      " [-1.   -1.   -1.   -0.75  0.  ]]\n",
      "iteration 2\n",
      "[[-1.9  -1.9  -1.9  -1.9  -1.9 ]\n",
      " [-1.9  -1.9  -1.9  -1.9  -1.9 ]\n",
      " [-1.9  -1.9  -1.9  -1.9  -1.84]\n",
      " [-1.9  -1.9  -1.9  -1.79 -1.37]\n",
      " [-1.9  -1.9  -1.84 -1.37  0.  ]]\n",
      "iteration 5\n",
      "[[-4.1  -4.1  -4.1  -4.09 -4.09]\n",
      " [-4.1  -4.1  -4.09 -4.07 -4.03]\n",
      " [-4.1  -4.09 -4.06 -3.95 -3.76]\n",
      " [-4.09 -4.07 -3.95 -3.55 -2.68]\n",
      " [-4.09 -4.03 -3.76 -2.68  0.  ]]\n",
      "iteration 10\n",
      "[[-6.51 -6.5  -6.48 -6.45 -6.42]\n",
      " [-6.5  -6.48 -6.43 -6.34 -6.25]\n",
      " [-6.48 -6.43 -6.29 -6.02 -5.66]\n",
      " [-6.45 -6.34 -6.02 -5.24 -3.92]\n",
      " [-6.42 -6.25 -5.66 -3.92  0.  ]]\n"
     ]
    }
   ],
   "source": [
    "iters = [1,2,5,10]\n",
    "world = GridWorld(5,5, gamma=0.9, start=[0,0], goal=[4,4])\n",
    "V = np.zeros(len(world.states))\n",
    "\n",
    "for i in np.arange(iters[len(iters)-1]):\n",
    "    V = policy_iteration(V,world)\n",
    "    if i+1 in iters:\n",
    "        print(\"iteration\", i+1) #iterates \n",
    "        print(V.reshape((world.width,world.height)).T)\n"
   ]
  },
  {
   "cell_type": "code",
   "execution_count": 148,
   "metadata": {},
   "outputs": [
    {
     "name": "stdout",
     "output_type": "stream",
     "text": [
      "Solution:\n",
      "+-+-+-+-+-+\n",
      "|S|*| | | |\n",
      "+-+-+-+-+-+\n",
      "| |*|*| | |\n",
      "+-+-+-+-+-+\n",
      "| | |*| | |\n",
      "+-+-+-+-+-+\n",
      "| | |*|*|*|\n",
      "+-+-+-+-+-+\n",
      "| | | | |G|\n",
      "+-+-+-+-+-+\n",
      "\n"
     ]
    }
   ],
   "source": [
    "start = world.start\n",
    "end = world.goal\n",
    "current = start\n",
    "path = [0]\n",
    "while current != end:\n",
    "    sv, rv, pv = world.state_transition(s = current)\n",
    "    near_states = V[sv]\n",
    "    states = np.argmax(near_states)\n",
    "    current = sv[states]\n",
    "    path.append(current)\n",
    "\n",
    "print(world.print_solution(S=path))"
   ]
  },
  {
   "cell_type": "markdown",
   "metadata": {},
   "source": [
    "Starts at the starting state and looks at the adjacent state values finds the maximum of these values and proceeds to that state. Then looks at the adjacent state values of that state and repeats until the goal has been reached. The value grids are symmetrical if you were to draw a diagonal line from start to goal. This is because there are no cliffs and the start and goal are on opposite corners."
   ]
  },
  {
   "cell_type": "markdown",
   "metadata": {},
   "source": [
    "## 2. State-Action-Reward-State-Action (SARSA)\n",
    "Value iteration requires a complete knowledge of the problem and its dynamics (ie, the capacity to simulate any state). In any practical problem this is not the case. Consider a robot operating: It is limited to learning from the actual experiences it encounters, and can only speculate on what could have been. \n",
    "\n",
    "SARSA is a reinforcement algorithms that reformulates the Temporal Difference (TD) rule seen before to allow the learning of a value function for state-action pairs (ie, the value of an action in a given state) from limited experiences only.  \n",
    "In SARSA, the state-action value function $Q^{(t)}(S_t,A_t)$ is learnt by updating: \n",
    "$$\n",
    "\t\tQ^{(t+1)}(S_t, A_t) \\leftarrow Q^{(t)}(S_t,A_t) + \\alpha \\left[R_{t+1} + \\gamma Q^{(t)}(S_{t+1},A_{t+1}) - Q^{(t)}(S_t,A_t)\\right]   \n",
    "$$\n",
    "\n",
    "In this part, you will:\n",
    "\n",
    "a. Implement the SARSA algorithm, using an $\\epsilon$-greedy policy. \n",
    "<div style=\"text-align: right\"><b>[10 marks]</b></div>\n",
    "b. Produce a graph showing the performance of the agent in y-axis and the number of episodes in x-axis. \n",
    "<div style=\"text-align: right\"><b>[10 marks]</b></div>\n",
    "b. C Finally, show the solution your algorithm has reached for different values of $\\epsilon$.\n",
    "<div style=\"text-align: right\"><b>[10 marks]</b></div>\n"
   ]
  },
  {
   "cell_type": "code",
   "execution_count": 149,
   "metadata": {},
   "outputs": [],
   "source": [
    "world = GridWorld(5,5, gamma=0.9, start=[0,0], goal=[4,4])\n",
    "Q = np.zeros((len(world.actions),len(world.states)))\n",
    "\n",
    "##### Function the carries out epsilon-greedy policy #######\n",
    "def greedy(world,s,epsilon,Q):\n",
    "    if np.random.rand() < epsilon:\n",
    "        action = np.random.choice(world.actions)\n",
    "    else:\n",
    "        action = np.argmax(Q[:,s])\n",
    "    return action\n",
    "    \n",
    "##### S-A-R-S-A function ######\n",
    "def sarsa(world,a,Q,episodes,eps):\n",
    "    r = np.zeros(episodes)\n",
    "    for i in np.arange(episodes):\n",
    "        s = world.start  #starts at start \n",
    "        action = greedy(world,s,eps,Q)  #decides best initial action\n",
    "        while s != world.goal:\n",
    "            [(snew, reward)] = world.state_action_state(s=s, a=action)   #finds new state and reward of taking action\n",
    "            actionnew = greedy(world,snew,eps,Q)   #decides best action from new state\n",
    "            Q[action,s] = Q[action,s] + a*(reward + world.gamma*Q[actionnew,snew] - Q[action,s])\n",
    "            s = snew  #makes the new state the current state\n",
    "            action = actionnew  #makes the new action the action to take on next iteration\n",
    "            r[i] += reward  #totals reward for each episode\n",
    "    return Q, r\n",
    "    "
   ]
  },
  {
   "cell_type": "code",
   "execution_count": 150,
   "metadata": {},
   "outputs": [],
   "source": [
    "a = 0.4\n",
    "episodes = 500\n",
    "eps = 0.01\n",
    "eps2 = 0.3\n",
    "world = GridWorld(5,5, gamma=0.9, start=[0,0], goal=[4,4])\n",
    "Q = np.zeros((len(world.actions),len(world.states)))\n",
    "\n",
    "Q1, r1 = sarsa(world,a,Q,episodes,eps)\n",
    "Q = np.zeros((len(world.actions),len(world.states)))\n",
    "Q2, r2 = sarsa(world,a,Q,episodes,eps2)\n"
   ]
  },
  {
   "cell_type": "code",
   "execution_count": 151,
   "metadata": {},
   "outputs": [
    {
     "data": {
      "text/plain": [
       "<matplotlib.legend.Legend at 0x11f898c88>"
      ]
     },
     "execution_count": 151,
     "metadata": {},
     "output_type": "execute_result"
    },
    {
     "data": {
      "image/png": "[encoded data removed]",
      "text/plain": [
       "<Figure size 432x288 with 1 Axes>"
      ]
     },
     "metadata": {
      "needs_background": "light"
     },
     "output_type": "display_data"
    }
   ],
   "source": [
    "plt.plot(np.arange(500)+1,r1,label = \"epsilon = 0.01\")\n",
    "plt.plot(np.arange(500)+1,r2,label = \"epsilon = 0.3\")\n",
    "plt.title(\"sum of rewards during episode vs episodes\")\n",
    "plt.xlabel(\"episodes\")\n",
    "plt.ylabel(\"sum of rewards across each episode\")\n",
    "plt.xlim(0,200)\n",
    "plt.legend(loc = \"lower right\")"
   ]
  },
  {
   "cell_type": "markdown",
   "metadata": {},
   "source": [
    "For epsilon = 0.01 we observe a significant increase in the sum of rewards in the first 25 episodes with oscillations. The oscillations then decrease and the sum of rewards plateaus at a value near -7 with oscillations. \n",
    "\n",
    "As epsilon is increased these oscillations become larger and more erratic for higher episodes which can be seen above when observing the epsilon = 0.3 line."
   ]
  },
  {
   "cell_type": "code",
   "execution_count": 152,
   "metadata": {},
   "outputs": [],
   "source": [
    "########## Function to find route from start to goal depending on Q ###############\n",
    "\n",
    "def findroute(Q,world):\n",
    "    slist = [world.start] #path of states from start to end\n",
    "    s = world.start #current state where the 4 Q values are being evaluated in the while statement below\n",
    "    c = 0\n",
    "    while s != world.goal:\n",
    "        action = np.where(Q[:,s] == np.max(Q[:,s]))\n",
    "        [(snew, reward)] = world.state_action_state(s=s, a=action[0][0])\n",
    "        slist.append(snew)\n",
    "        s = snew\n",
    "        c = c + 1\n",
    "        if c > 200:\n",
    "            print(\"No solution found\")\n",
    "            return\n",
    "        \n",
    "    print(world.print_solution(S=slist))"
   ]
  },
  {
   "cell_type": "code",
   "execution_count": 164,
   "metadata": {},
   "outputs": [
    {
     "name": "stdout",
     "output_type": "stream",
     "text": [
      "solution for epsilon = 0\n",
      "Solution:\n",
      "+-+-+-+-+-+\n",
      "|S|*|*|*| |\n",
      "+-+-+-+-+-+\n",
      "| | | |*|*|\n",
      "+-+-+-+-+-+\n",
      "| | | | |*|\n",
      "+-+-+-+-+-+\n",
      "| | | | |*|\n",
      "+-+-+-+-+-+\n",
      "| | | | |G|\n",
      "+-+-+-+-+-+\n",
      "\n",
      "solution for epsilon = 0.001\n",
      "Solution:\n",
      "+-+-+-+-+-+\n",
      "|S|*|*|*| |\n",
      "+-+-+-+-+-+\n",
      "| | | |*|*|\n",
      "+-+-+-+-+-+\n",
      "| | | | |*|\n",
      "+-+-+-+-+-+\n",
      "| | | | |*|\n",
      "+-+-+-+-+-+\n",
      "| | | | |G|\n",
      "+-+-+-+-+-+\n",
      "\n",
      "solution for epsilon = 0.01\n",
      "Solution:\n",
      "+-+-+-+-+-+\n",
      "|S| | | | |\n",
      "+-+-+-+-+-+\n",
      "|*|*|*|*| |\n",
      "+-+-+-+-+-+\n",
      "| | | |*| |\n",
      "+-+-+-+-+-+\n",
      "| | | |*| |\n",
      "+-+-+-+-+-+\n",
      "| | | |*|G|\n",
      "+-+-+-+-+-+\n",
      "\n",
      "solution for epsilon = 0.1\n",
      "Solution:\n",
      "+-+-+-+-+-+\n",
      "|S| | | | |\n",
      "+-+-+-+-+-+\n",
      "|*| | | | |\n",
      "+-+-+-+-+-+\n",
      "|*| | | | |\n",
      "+-+-+-+-+-+\n",
      "|*|*|*| | |\n",
      "+-+-+-+-+-+\n",
      "| | |*|*|G|\n",
      "+-+-+-+-+-+\n",
      "\n",
      "solution for epsilon = 0.4\n",
      "Solution:\n",
      "+-+-+-+-+-+\n",
      "|S|*|*| | |\n",
      "+-+-+-+-+-+\n",
      "| | |*|*| |\n",
      "+-+-+-+-+-+\n",
      "| | | |*|*|\n",
      "+-+-+-+-+-+\n",
      "| | | | |*|\n",
      "+-+-+-+-+-+\n",
      "| | | | |G|\n",
      "+-+-+-+-+-+\n",
      "\n"
     ]
    }
   ],
   "source": [
    "world = GridWorld(5,5, gamma=0.9, start=[0,0], goal=[4,4])\n",
    "Q = np.zeros((len(world.actions),len(world.states)))\n",
    "\n",
    "a = 0.4\n",
    "episodes = 500\n",
    "eps = 0\n",
    "Q, r = sarsa(world,a,Q,episodes,eps)\n",
    "#print(Q.T)\n",
    "print(\"solution for epsilon =\",eps)\n",
    "findroute(Q,world)\n",
    "\n",
    "Q = np.zeros((len(world.actions),len(world.states)))\n",
    "eps = 0.001\n",
    "Q, r = sarsa(world,a,Q,episodes,eps)\n",
    "#print(Q.T)\n",
    "print(\"solution for epsilon =\",eps)\n",
    "findroute(Q,world)\n",
    "\n",
    "Q = np.zeros((len(world.actions),len(world.states)))\n",
    "eps = 0.01\n",
    "Q, r = sarsa(world,a,Q,episodes,eps)\n",
    "#print(Q.T)\n",
    "print(\"solution for epsilon =\",eps)\n",
    "findroute(Q,world)\n",
    "\n",
    "Q = np.zeros((len(world.actions),len(world.states)))\n",
    "eps = 0.1\n",
    "Q, r = sarsa(world,a,Q,episodes,eps)\n",
    "#print(Q.T)\n",
    "print(\"solution for epsilon =\",eps)\n",
    "findroute(Q,world)\n",
    "\n",
    "Q = np.zeros((len(world.actions),len(world.states)))\n",
    "eps = 0.4\n",
    "Q, r = sarsa(world,a,Q,episodes,eps)\n",
    "#print(Q.T)\n",
    "print(\"solution for epsilon =\",eps)\n",
    "findroute(Q,world)"
   ]
  },
  {
   "cell_type": "markdown",
   "metadata": {},
   "source": [
    "Upon multiple runs, I observe the path taken to be more random for higher epsilon values and more consistent for smaller epsilon values. Epsilon = 1 would completely ignore the argmax and choose a random action every time. We see epsilon = 0.001 sometimes follow the same path as epsilon = 0 but epsilon = 0.1 and 0.4 almost never follow the same path due to the random action being triggered a lot within the epsilon-greedy policy."
   ]
  },
  {
   "cell_type": "markdown",
   "metadata": {},
   "source": [
    "## 3. Q-learning \n",
    "SARSA is called an \"on-policy\" algorithm, because it makes assumptions on what the action that the policy will make at the next step to estimate $Q$. Therefore, the value function is dependent on the policy! \n",
    "$Q$-learning takes an alternative view, so-called \"off-policy\", where the value of a state-action pair is independent on the policy's actions, and is instead dependent on <i>the best possible course of action thereafter</i>. This is achieved by amending the update function: \n",
    "    $$\n",
    "\tQ^{(t+1)}(S_t,A_t)\\leftarrow Q^{(t)}(S_t,A_t)+\\alpha\\left[\n",
    "\tR_{t+1} + \\gamma \\max_a Q^{(t)}(S_{t+1},a)-Q(S_t,A_t)\n",
    "\t\\right]\n",
    "\t$$\n",
    "    \n",
    "In this part, you will:\n",
    "\n",
    "a. implement the off-policy Q-learning algorithm and use it to solve the problem. \n",
    "<div style=\"text-align: right\"><b>[10 marks]</b></div>\n",
    "b. Produce a graph showing the performance of the agent in y-axis and the number of episodes in x-axis. \n",
    "<div style=\"text-align: right\"><b>[10 marks]</b></div>\n",
    "c. C Finally, show the solution your algorithm has reached for different values of $\\epsilon$.\n",
    "<div style=\"text-align: right\"><b>[10 marks]</b></div>"
   ]
  },
  {
   "cell_type": "code",
   "execution_count": 154,
   "metadata": {},
   "outputs": [],
   "source": [
    "def Qlearn(world,a,Q,episodes,eps):\n",
    "    r = np.zeros(episodes)\n",
    "    for i in np.arange(episodes):\n",
    "        s = world.start #  starts at start\n",
    "        while s != world.goal:\n",
    "            action = greedy(world,s,eps,Q)  #  Decided action based on greedy policy \n",
    "            [(snew, reward)] = world.state_action_state(s=s, a=action)  #  Finds new state based on taking said action\n",
    "            Q[action,s] = Q[action,s] + a*(reward + world.gamma*np.max(Q[:,snew]) - Q[action,s])\n",
    "            #  Implements update function\n",
    "            s = snew\n",
    "            r[i] += reward\n",
    "    return Q, r\n",
    "\n"
   ]
  },
  {
   "cell_type": "code",
   "execution_count": 155,
   "metadata": {},
   "outputs": [],
   "source": [
    "a = 0.4\n",
    "episodes = 500\n",
    "eps = 0.01\n",
    "eps2 = 0.3\n",
    "world = GridWorld(5,5, gamma=0.9, start=[0,0], goal=[4,4])\n",
    "Qinput = np.zeros((len(world.actions),len(world.states)))\n",
    "Q1, r1 = sarsa(world,a,Qinput,episodes,eps)\n",
    "Qinput = np.zeros((len(world.actions),len(world.states)))\n",
    "Q2, r2 = Qlearn(world,a,Qinput,episodes,eps2)"
   ]
  },
  {
   "cell_type": "code",
   "execution_count": 156,
   "metadata": {},
   "outputs": [
    {
     "data": {
      "text/plain": [
       "(0, 200)"
      ]
     },
     "execution_count": 156,
     "metadata": {},
     "output_type": "execute_result"
    },
    {
     "data": {
      "image/png": "[encoded data removed]",
      "text/plain": [
       "<Figure size 432x288 with 1 Axes>"
      ]
     },
     "metadata": {
      "needs_background": "light"
     },
     "output_type": "display_data"
    }
   ],
   "source": [
    "plt.plot(np.arange(episodes)+1,r1, label = \"epsilon = 0.01\")\n",
    "plt.plot(np.arange(episodes)+1,r2, label = \"epsilon = 0.3\")\n",
    "\n",
    "plt.title(\"sum of rewards during episode vs episodes\")\n",
    "plt.xlabel(\"episodes\")\n",
    "plt.ylabel(\"sum of rewards across each episode\")\n",
    "plt.xlim(0,200)"
   ]
  },
  {
   "cell_type": "markdown",
   "metadata": {},
   "source": [
    "For epsilon = 0.01, we observe a significant increase in the sum of rewards with a significant decrease in oscillations as the sum of rewards plateaus at -7. We observe similar behaviour as the SARSA algorithm where the sum of rewards experiences more erratic oscillations as epsilon is increased due to the random effect in the epsilon-greedy policy."
   ]
  },
  {
   "cell_type": "code",
   "execution_count": 165,
   "metadata": {},
   "outputs": [
    {
     "name": "stdout",
     "output_type": "stream",
     "text": [
      "solution for epsilon = 0\n",
      "Solution:\n",
      "+-+-+-+-+-+\n",
      "|S| | | | |\n",
      "+-+-+-+-+-+\n",
      "|*|*| | | |\n",
      "+-+-+-+-+-+\n",
      "| |*| | | |\n",
      "+-+-+-+-+-+\n",
      "| |*|*| | |\n",
      "+-+-+-+-+-+\n",
      "| | |*|*|G|\n",
      "+-+-+-+-+-+\n",
      "\n",
      "solution for epsilon = 0.001\n",
      "Solution:\n",
      "+-+-+-+-+-+\n",
      "|S| | | | |\n",
      "+-+-+-+-+-+\n",
      "|*| | | | |\n",
      "+-+-+-+-+-+\n",
      "|*|*| | | |\n",
      "+-+-+-+-+-+\n",
      "| |*|*| | |\n",
      "+-+-+-+-+-+\n",
      "| | |*|*|G|\n",
      "+-+-+-+-+-+\n",
      "\n",
      "solution for epsilon = 0.01\n",
      "Solution:\n",
      "+-+-+-+-+-+\n",
      "|S|*| | | |\n",
      "+-+-+-+-+-+\n",
      "| |*| | | |\n",
      "+-+-+-+-+-+\n",
      "| |*| | | |\n",
      "+-+-+-+-+-+\n",
      "| |*|*|*|*|\n",
      "+-+-+-+-+-+\n",
      "| | | | |G|\n",
      "+-+-+-+-+-+\n",
      "\n",
      "solution for epsilon = 0.1\n",
      "Solution:\n",
      "+-+-+-+-+-+\n",
      "|S| | | | |\n",
      "+-+-+-+-+-+\n",
      "|*|*| | | |\n",
      "+-+-+-+-+-+\n",
      "| |*| | | |\n",
      "+-+-+-+-+-+\n",
      "| |*| | | |\n",
      "+-+-+-+-+-+\n",
      "| |*|*|*|G|\n",
      "+-+-+-+-+-+\n",
      "\n",
      "solution for epsilon = 0.4\n",
      "Solution:\n",
      "+-+-+-+-+-+\n",
      "|S|*| | | |\n",
      "+-+-+-+-+-+\n",
      "| |*| | | |\n",
      "+-+-+-+-+-+\n",
      "| |*| | | |\n",
      "+-+-+-+-+-+\n",
      "| |*|*| | |\n",
      "+-+-+-+-+-+\n",
      "| | |*|*|G|\n",
      "+-+-+-+-+-+\n",
      "\n"
     ]
    }
   ],
   "source": [
    "\n",
    "Q = np.zeros((len(world.actions),len(world.states)))\n",
    "a = 0.1\n",
    "episodes = 500\n",
    "eps = 0\n",
    "Q, r = Qlearn(world,a,Q,episodes,eps)\n",
    "#print(Q.T)\n",
    "print(\"solution for epsilon =\",eps)\n",
    "findroute(Q,world)\n",
    "\n",
    "Q = np.zeros((len(world.actions),len(world.states)))\n",
    "a = 0.1\n",
    "episodes = 500\n",
    "eps = 0.001\n",
    "Q, r = Qlearn(world,a,Q,episodes,eps)\n",
    "#print(Q.T)\n",
    "print(\"solution for epsilon =\",eps)\n",
    "findroute(Q,world)\n",
    "\n",
    "Q = np.zeros((len(world.actions),len(world.states)))\n",
    "a = 0.1\n",
    "episodes = 500\n",
    "eps = 0.01\n",
    "Q, r = Qlearn(world,a,Q,episodes,eps)\n",
    "#print(Q.T)\n",
    "print(\"solution for epsilon =\",eps)\n",
    "findroute(Q,world)\n",
    "\n",
    "Q = np.zeros((len(world.actions),len(world.states)))\n",
    "a = 0.1\n",
    "episodes = 500\n",
    "eps = 0.1\n",
    "Q, r = Qlearn(world,a,Q,episodes,eps)\n",
    "#print(Q.T)\n",
    "print(\"solution for epsilon =\",eps)\n",
    "findroute(Q,world)\n",
    "\n",
    "Q = np.zeros((len(world.actions),len(world.states)))\n",
    "a = 0.1\n",
    "episodes = 500\n",
    "eps = 0.4\n",
    "Q, r = Qlearn(world,a,Q,episodes,eps)\n",
    "#print(Q.T)\n",
    "print(\"solution for epsilon =\",eps)\n",
    "findroute(Q,world)\n"
   ]
  },
  {
   "cell_type": "markdown",
   "metadata": {},
   "source": [
    "Similarly we see the path taken upon multiple iterations be more random for higher epsilon values which is expected as the random action within the epsilon-greedy policy will be triggered more frequently for higher epsilon values. "
   ]
  },
  {
   "cell_type": "markdown",
   "metadata": {},
   "source": [
    "Finally, compare the two algorithms on a number of gridworld configurations (see examples below, but generate a few of your own) and discuss the results. \n",
    "<div style=\"text-align: right\"><b>[10 marks]</b></div>"
   ]
  },
  {
   "cell_type": "code",
   "execution_count": 158,
   "metadata": {},
   "outputs": [
    {
     "name": "stdout",
     "output_type": "stream",
     "text": [
      "Grid world:\n",
      "+-+-+-+-+-+-+-+-+-+-+\n",
      "|S| | | | | | | | | |\n",
      "+-+-+-+-+-+-+-+-+-+-+\n",
      "| | | | | | | | | | |\n",
      "+-+-+-+-+-+-+-+-+-+-+\n",
      "|X|X|X|X|X|X| | | | |\n",
      "+-+-+-+-+-+-+-+-+-+-+\n",
      "| | | | | | | | | | |\n",
      "+-+-+-+-+-+-+-+-+-+-+\n",
      "| | | | | | | | | | |\n",
      "+-+-+-+-+-+-+-+-+-+-+\n",
      "| | | | | | | | | | |\n",
      "+-+-+-+-+-+-+-+-+-+-+\n",
      "| | | | |X|X|X|X|X|X|\n",
      "+-+-+-+-+-+-+-+-+-+-+\n",
      "| | | | | | | | | | |\n",
      "+-+-+-+-+-+-+-+-+-+-+\n",
      "| | | | | | | | | | |\n",
      "+-+-+-+-+-+-+-+-+-+-+\n",
      "| | | | | | | | | |G|\n",
      "+-+-+-+-+-+-+-+-+-+-+\n",
      "\n",
      "Grid world:\n",
      "+-+-+-+-+-+-+-+-+-+-+\n",
      "| | | | | | | | | |S|\n",
      "+-+-+-+-+-+-+-+-+-+-+\n",
      "| | | | | | | | | | |\n",
      "+-+-+-+-+-+-+-+-+-+-+\n",
      "| | | | | | | | | | |\n",
      "+-+-+-+-+-+-+-+-+-+-+\n",
      "| | | |X|X|X|X| | | |\n",
      "+-+-+-+-+-+-+-+-+-+-+\n",
      "| | | |X|X|X|X| | | |\n",
      "+-+-+-+-+-+-+-+-+-+-+\n",
      "| | | |X|X|X|X| | | |\n",
      "+-+-+-+-+-+-+-+-+-+-+\n",
      "| | | |X|X|X|X| | | |\n",
      "+-+-+-+-+-+-+-+-+-+-+\n",
      "| | | | | | | | | | |\n",
      "+-+-+-+-+-+-+-+-+-+-+\n",
      "| | | | | | | | | | |\n",
      "+-+-+-+-+-+-+-+-+-+-+\n",
      "|G| | | | | | | | | |\n",
      "+-+-+-+-+-+-+-+-+-+-+\n",
      "\n",
      "Grid world:\n",
      "+-+-+-+-+-+-+-+-+-+-+\n",
      "|S| | | | | | | | | |\n",
      "+-+-+-+-+-+-+-+-+-+-+\n",
      "|X| |X| |X| |X| |X| |\n",
      "+-+-+-+-+-+-+-+-+-+-+\n",
      "| |X| |X| |X| |X| | |\n",
      "+-+-+-+-+-+-+-+-+-+-+\n",
      "| | | | | | | | | | |\n",
      "+-+-+-+-+-+-+-+-+-+-+\n",
      "| | |X| |X| |X| |X| |\n",
      "+-+-+-+-+-+-+-+-+-+-+\n",
      "| |X| |X| |X| |X| |X|\n",
      "+-+-+-+-+-+-+-+-+-+-+\n",
      "| | | | | | | | | | |\n",
      "+-+-+-+-+-+-+-+-+-+-+\n",
      "| |X| |X| |X| |X| | |\n",
      "+-+-+-+-+-+-+-+-+-+-+\n",
      "|X| |X| |X| |X| | | |\n",
      "+-+-+-+-+-+-+-+-+-+-+\n",
      "|G| | | | | | | | | |\n",
      "+-+-+-+-+-+-+-+-+-+-+\n",
      "\n",
      "Grid world:\n",
      "+-+-+-+-+-+-+-+-+-+-+\n",
      "|S| | | | | | | | | |\n",
      "+-+-+-+-+-+-+-+-+-+-+\n",
      "|X| |X| | | | | | | |\n",
      "+-+-+-+-+-+-+-+-+-+-+\n",
      "|X| |X| | | | | | | |\n",
      "+-+-+-+-+-+-+-+-+-+-+\n",
      "|X| |X| | | | | | | |\n",
      "+-+-+-+-+-+-+-+-+-+-+\n",
      "|X| |X| | | | | | | |\n",
      "+-+-+-+-+-+-+-+-+-+-+\n",
      "|X| |X| | | | | | | |\n",
      "+-+-+-+-+-+-+-+-+-+-+\n",
      "|X| |X| | | | | | | |\n",
      "+-+-+-+-+-+-+-+-+-+-+\n",
      "|X| |X| | | | | | | |\n",
      "+-+-+-+-+-+-+-+-+-+-+\n",
      "|X| |X| | | | | | | |\n",
      "+-+-+-+-+-+-+-+-+-+-+\n",
      "|G| | | | | | | | | |\n",
      "+-+-+-+-+-+-+-+-+-+-+\n",
      "\n"
     ]
    }
   ],
   "source": [
    "\n",
    "######Initialising Gridworlds########\n",
    "world1 = GridWorld(10,10, gamma=0.99, start=[0,0], goal=[9,9], cliff=[[0,2], [1,2], [2,2], [3,2], [4,2], [5,2], \n",
    "                                                                     [4,6], [5,6], [6,6], [7,6], [8,6], [9,6]])\n",
    "print(world1.tostring())\n",
    "\n",
    "cliff = [ [i,j] for i in range(3,7) for j in range(3,7) ]\n",
    "       \n",
    "world2 = GridWorld(10,10, gamma=0.99, start=[9,0], goal=[0,9], cliff=cliff)\n",
    "print(world2.tostring())\n",
    "\n",
    "world3 = GridWorld(10,10, gamma=0.99, start=[0,0], goal=[0,9], cliff=[[0,1], [1,2], [2,1], [3,2], [4,1], [5,2], [6,1],\n",
    "                                                                     [7,2],[8,1],[8,4],[7,5],[6,4],[5,5],[4,4],[3,5],[2,4]\n",
    "                                                                    ,[1,5],[9,5],[0,8],[1,7],[2,8],[3,7],[4,8],[5,7],[6,8],[7,7]])\n",
    "print(world3.tostring())\n",
    "\n",
    "world4 = GridWorld(10,10, gamma=0.99, start=[0,0], goal=[0,9], cliff=[[0,1],[0,2],[0,3],[0,4],[0,5],[0,6],[0,7],[0,8],[2,1],[2,2],[2,3],[2,4],[2,5],[2,6],[2,7],[2,8]])\n",
    "print(world4.tostring())"
   ]
  },
  {
   "cell_type": "code",
   "execution_count": 170,
   "metadata": {
    "scrolled": false
   },
   "outputs": [
    {
     "name": "stdout",
     "output_type": "stream",
     "text": [
      "SARSA\n",
      "Solution:\n",
      "+-+-+-+-+-+-+-+-+-+-+\n",
      "|S|*|*|*|*|*|*|*| | |\n",
      "+-+-+-+-+-+-+-+-+-+-+\n",
      "| | | | | | | |*| | |\n",
      "+-+-+-+-+-+-+-+-+-+-+\n",
      "|X|X|X|X|X|X| |*| | |\n",
      "+-+-+-+-+-+-+-+-+-+-+\n",
      "| | | | | | | |*| | |\n",
      "+-+-+-+-+-+-+-+-+-+-+\n",
      "| | |*|*|*|*|*|*| | |\n",
      "+-+-+-+-+-+-+-+-+-+-+\n",
      "| | |*| | | | | | | |\n",
      "+-+-+-+-+-+-+-+-+-+-+\n",
      "| | |*| |X|X|X|X|X|X|\n",
      "+-+-+-+-+-+-+-+-+-+-+\n",
      "| | |*|*| | | | | | |\n",
      "+-+-+-+-+-+-+-+-+-+-+\n",
      "| | | |*| | | | | | |\n",
      "+-+-+-+-+-+-+-+-+-+-+\n",
      "| | | |*|*|*|*|*|*|G|\n",
      "+-+-+-+-+-+-+-+-+-+-+\n",
      "\n",
      "Q-Learning\n",
      "Solution:\n",
      "+-+-+-+-+-+-+-+-+-+-+\n",
      "|S| | | | | | | | | |\n",
      "+-+-+-+-+-+-+-+-+-+-+\n",
      "|*|*|*|*|*|*|*| | | |\n",
      "+-+-+-+-+-+-+-+-+-+-+\n",
      "|X|X|X|X|X|X|*| | | |\n",
      "+-+-+-+-+-+-+-+-+-+-+\n",
      "| | | | | |*|*| | | |\n",
      "+-+-+-+-+-+-+-+-+-+-+\n",
      "| | | | | |*| | | | |\n",
      "+-+-+-+-+-+-+-+-+-+-+\n",
      "| | | |*|*|*| | | | |\n",
      "+-+-+-+-+-+-+-+-+-+-+\n",
      "| | | |*|X|X|X|X|X|X|\n",
      "+-+-+-+-+-+-+-+-+-+-+\n",
      "| | | |*|*|*|*|*|*| |\n",
      "+-+-+-+-+-+-+-+-+-+-+\n",
      "| | | | | | | | |*|*|\n",
      "+-+-+-+-+-+-+-+-+-+-+\n",
      "| | | | | | | | | |G|\n",
      "+-+-+-+-+-+-+-+-+-+-+\n",
      "\n"
     ]
    },
    {
     "data": {
      "text/plain": [
       "Text(0, 0.5, 'sum of rewards across each episode')"
      ]
     },
     "execution_count": 170,
     "metadata": {},
     "output_type": "execute_result"
    },
    {
     "data": {
      "image/png": "[encoded data removed]",
      "text/plain": [
       "<Figure size 432x288 with 1 Axes>"
      ]
     },
     "metadata": {
      "needs_background": "light"
     },
     "output_type": "display_data"
    },
    {
     "data": {
      "image/png": "[encoded data removed]",
      "text/plain": [
       "<Figure size 432x288 with 1 Axes>"
      ]
     },
     "metadata": {
      "needs_background": "light"
     },
     "output_type": "display_data"
    }
   ],
   "source": [
    "a = 0.4\n",
    "episodes = 500\n",
    "eps = 0.1\n",
    "Q = np.zeros((len(world1.actions),len(world1.states)))\n",
    "print(\"SARSA\")\n",
    "Qend, rs = sarsa(world1,a,Q,episodes,eps)\n",
    "findroute(Qend,world1)\n",
    "Q = np.zeros((len(world1.actions),len(world1.states)))\n",
    "print(\"Q-Learning\")\n",
    "Qend, rq = Qlearn(world1,a,Q,episodes,eps)\n",
    "findroute(Qend,world1)\n",
    "\n",
    "plt.figure()\n",
    "plt.plot(np.arange(episodes)+1,rs)\n",
    "plt.title(\"SARSA\")\n",
    "plt.xlabel(\"episodes\")\n",
    "plt.ylabel(\"sum of rewards across each episode\")\n",
    "\n",
    "plt.figure()\n",
    "plt.plot(np.arange(episodes)+1,rq)\n",
    "plt.title(\"Q-learning\")\n",
    "plt.xlabel(\"episodes\")\n",
    "plt.ylabel(\"sum of rewards across each episode\")"
   ]
  },
  {
   "cell_type": "markdown",
   "metadata": {},
   "source": [
    "Q-Learning takes the fastest route as SARSA will take a safer route depending on epsilon. The higher epsilon the safer the route sarsa takes as shown above where epsilon is quite large and maintains a distance from the cliffs unlike the Q-learning method which does not and retrieves an optimal path.\n",
    "\n",
    "I observe the SARSA spike a lot more than Q-learning which is due to a route being harder to find in each episode for SARSA than Q-learning. This is because SARSA leaves room for exploration which will cause it to sometime take longer to converge to the 'goal' thereby causing a spike."
   ]
  },
  {
   "cell_type": "code",
   "execution_count": 173,
   "metadata": {},
   "outputs": [
    {
     "name": "stdout",
     "output_type": "stream",
     "text": [
      "SARSA\n",
      "Solution:\n",
      "+-+-+-+-+-+-+-+-+-+-+\n",
      "| | |*|*|*|*|*|*|*|S|\n",
      "+-+-+-+-+-+-+-+-+-+-+\n",
      "| | |*| | | | | | | |\n",
      "+-+-+-+-+-+-+-+-+-+-+\n",
      "|*|*|*| | | | | | | |\n",
      "+-+-+-+-+-+-+-+-+-+-+\n",
      "|*| | |X|X|X|X| | | |\n",
      "+-+-+-+-+-+-+-+-+-+-+\n",
      "|*| | |X|X|X|X| | | |\n",
      "+-+-+-+-+-+-+-+-+-+-+\n",
      "|*| | |X|X|X|X| | | |\n",
      "+-+-+-+-+-+-+-+-+-+-+\n",
      "|*| | |X|X|X|X| | | |\n",
      "+-+-+-+-+-+-+-+-+-+-+\n",
      "|*| | | | | | | | | |\n",
      "+-+-+-+-+-+-+-+-+-+-+\n",
      "|*| | | | | | | | | |\n",
      "+-+-+-+-+-+-+-+-+-+-+\n",
      "|G| | | | | | | | | |\n",
      "+-+-+-+-+-+-+-+-+-+-+\n",
      "\n",
      "Q-Learning\n",
      "Solution:\n",
      "+-+-+-+-+-+-+-+-+-+-+\n",
      "| | | | | | | | | |S|\n",
      "+-+-+-+-+-+-+-+-+-+-+\n",
      "| | | | | | | | |*|*|\n",
      "+-+-+-+-+-+-+-+-+-+-+\n",
      "| | | | | | | |*|*| |\n",
      "+-+-+-+-+-+-+-+-+-+-+\n",
      "| | | |X|X|X|X|*| | |\n",
      "+-+-+-+-+-+-+-+-+-+-+\n",
      "| | | |X|X|X|X|*| | |\n",
      "+-+-+-+-+-+-+-+-+-+-+\n",
      "| | | |X|X|X|X|*| | |\n",
      "+-+-+-+-+-+-+-+-+-+-+\n",
      "| | | |X|X|X|X|*| | |\n",
      "+-+-+-+-+-+-+-+-+-+-+\n",
      "| | | | | |*|*|*| | |\n",
      "+-+-+-+-+-+-+-+-+-+-+\n",
      "|*|*|*|*|*|*| | | | |\n",
      "+-+-+-+-+-+-+-+-+-+-+\n",
      "|G| | | | | | | | | |\n",
      "+-+-+-+-+-+-+-+-+-+-+\n",
      "\n"
     ]
    },
    {
     "data": {
      "text/plain": [
       "Text(0, 0.5, 'sum of rewards across each episode')"
      ]
     },
     "execution_count": 173,
     "metadata": {},
     "output_type": "execute_result"
    },
    {
     "data": {
      "image/png": "[encoded data removed]",
      "text/plain": [
       "<Figure size 432x288 with 1 Axes>"
      ]
     },
     "metadata": {
      "needs_background": "light"
     },
     "output_type": "display_data"
    },
    {
     "data": {
      "image/png": "[encoded data removed]",
      "text/plain": [
       "<Figure size 432x288 with 1 Axes>"
      ]
     },
     "metadata": {
      "needs_background": "light"
     },
     "output_type": "display_data"
    }
   ],
   "source": [
    "a = 0.4\n",
    "episodes = 500\n",
    "eps = 0.1\n",
    "Q = np.zeros((len(world2.actions),len(world2.states)))\n",
    "print(\"SARSA\")\n",
    "Qend, rs = sarsa(world2,a,Q,episodes,eps)\n",
    "findroute(Qend,world2)\n",
    "Q = np.zeros((len(world2.actions),len(world2.states)))\n",
    "print(\"Q-Learning\")\n",
    "Qend, rq = Qlearn(world2,a,Q,episodes,eps)\n",
    "findroute(Qend,world2)\n",
    "\n",
    "plt.figure()\n",
    "plt.plot(np.arange(episodes)+1,rs)\n",
    "plt.title(\"SARSA\")\n",
    "plt.xlabel(\"episodes\")\n",
    "plt.ylabel(\"sum of rewards across each episode\")\n",
    "\n",
    "plt.figure()\n",
    "plt.plot(np.arange(episodes)+1,rq)\n",
    "plt.title(\"Q-learning\")\n",
    "plt.xlabel(\"episodes\")\n",
    "plt.ylabel(\"sum of rewards across each episode\")"
   ]
  },
  {
   "cell_type": "markdown",
   "metadata": {},
   "source": [
    "Again we observe SARSA take a safer route not going near the cliff but the Q-learning will take an optimal path regardless of how close to the cliffs it gets. *(Sometimes they'll both not go near the cliff or vice versa however the statement occurs most of the time upon multiple runs)*\n",
    "\n",
    "This is because of the on-policy/off-policy difference between the 2 algorithms where Q-learning will learn off of an estimate of the optimal policy by updating Q based on the largest action value of its next state where as SARSA will update Q based on the action it is going to take next off the current policy. \n"
   ]
  },
  {
   "cell_type": "code",
   "execution_count": 161,
   "metadata": {},
   "outputs": [
    {
     "name": "stdout",
     "output_type": "stream",
     "text": [
      "SARSA\n",
      "Solution:\n",
      "+-+-+-+-+-+-+-+-+-+-+\n",
      "|S|*|*|*|*|*|*|*|*|*|\n",
      "+-+-+-+-+-+-+-+-+-+-+\n",
      "|X| |X| |X| |X| |X|*|\n",
      "+-+-+-+-+-+-+-+-+-+-+\n",
      "| |X| |X| |X| |X| |*|\n",
      "+-+-+-+-+-+-+-+-+-+-+\n",
      "|*|*|*|*|*|*|*|*|*|*|\n",
      "+-+-+-+-+-+-+-+-+-+-+\n",
      "|*| |X| |X| |X| |X| |\n",
      "+-+-+-+-+-+-+-+-+-+-+\n",
      "|*|X| |X| |X| |X| |X|\n",
      "+-+-+-+-+-+-+-+-+-+-+\n",
      "|*|*|*|*|*|*|*|*|*| |\n",
      "+-+-+-+-+-+-+-+-+-+-+\n",
      "| |X| |X| |X| |X|*| |\n",
      "+-+-+-+-+-+-+-+-+-+-+\n",
      "|X| |X| |X| |X| |*| |\n",
      "+-+-+-+-+-+-+-+-+-+-+\n",
      "|G|*|*|*|*|*|*|*|*| |\n",
      "+-+-+-+-+-+-+-+-+-+-+\n",
      "\n",
      "Q-Learning\n",
      "Solution:\n",
      "+-+-+-+-+-+-+-+-+-+-+\n",
      "|S|*|*|*|*|*|*|*|*|*|\n",
      "+-+-+-+-+-+-+-+-+-+-+\n",
      "|X| |X| |X| |X| |X|*|\n",
      "+-+-+-+-+-+-+-+-+-+-+\n",
      "| |X| |X| |X| |X| |*|\n",
      "+-+-+-+-+-+-+-+-+-+-+\n",
      "| |*|*|*|*|*|*|*|*|*|\n",
      "+-+-+-+-+-+-+-+-+-+-+\n",
      "|*|*|X| |X| |X| |X| |\n",
      "+-+-+-+-+-+-+-+-+-+-+\n",
      "|*|X| |X| |X| |X| |X|\n",
      "+-+-+-+-+-+-+-+-+-+-+\n",
      "|*|*|*|*|*|*|*|*|*| |\n",
      "+-+-+-+-+-+-+-+-+-+-+\n",
      "| |X| |X| |X| |X|*| |\n",
      "+-+-+-+-+-+-+-+-+-+-+\n",
      "|X| |X| |X| |X| |*| |\n",
      "+-+-+-+-+-+-+-+-+-+-+\n",
      "|G|*|*|*|*|*|*|*|*| |\n",
      "+-+-+-+-+-+-+-+-+-+-+\n",
      "\n"
     ]
    },
    {
     "data": {
      "text/plain": [
       "Text(0, 0.5, 'sum of rewards across each episode')"
      ]
     },
     "execution_count": 161,
     "metadata": {},
     "output_type": "execute_result"
    },
    {
     "data": {
      "image/png": "[encoded data removed]",
      "text/plain": [
       "<Figure size 432x288 with 1 Axes>"
      ]
     },
     "metadata": {
      "needs_background": "light"
     },
     "output_type": "display_data"
    },
    {
     "data": {
      "image/png": "[encoded data removed]",
      "text/plain": [
       "<Figure size 432x288 with 1 Axes>"
      ]
     },
     "metadata": {
      "needs_background": "light"
     },
     "output_type": "display_data"
    }
   ],
   "source": [
    "a = 0.4\n",
    "episodes = 500\n",
    "eps = 0.01\n",
    "Q = np.zeros((len(world3.actions),len(world3.states)))\n",
    "print(\"SARSA\")\n",
    "Qend, rs = sarsa(world3,a,Q,episodes,eps)\n",
    "findroute(Qend,world3)\n",
    "Q = np.zeros((len(world3.actions),len(world3.states)))\n",
    "print(\"Q-Learning\")\n",
    "Qend, rq = Qlearn(world3,a,Q,episodes,0.1)\n",
    "findroute(Qend,world3)\n",
    "\n",
    "plt.figure()\n",
    "plt.plot(np.arange(episodes)+1,rs)\n",
    "plt.title(\"SARSA\")\n",
    "plt.xlabel(\"episodes\")\n",
    "plt.ylabel(\"sum of rewards across each episode\")\n",
    "\n",
    "plt.figure()\n",
    "plt.plot(np.arange(episodes)+1,rq)\n",
    "plt.title(\"Q-learning\")\n",
    "plt.xlabel(\"episodes\")\n",
    "plt.ylabel(\"sum of rewards across each episode\")"
   ]
  },
  {
   "cell_type": "markdown",
   "metadata": {},
   "source": [
    "I use a small epsilon as any larger causes the SARSA to not(or take long to) converge on a solution for an episode. This is because the world has a specific path and only has little room for exploration by the SARSA method. The Q-learning algorithm evaluates a lot of actions in the first episode hence the large value at the start but then requires little updating as Q has the best path calibrated and rarely takes random actions due to the low epsilon."
   ]
  },
  {
   "cell_type": "code",
   "execution_count": 175,
   "metadata": {},
   "outputs": [
    {
     "name": "stdout",
     "output_type": "stream",
     "text": [
      "SARSA\n",
      "Solution:\n",
      "+-+-+-+-+-+-+-+-+-+-+\n",
      "|S|*|*|*|*|*|*| | | |\n",
      "+-+-+-+-+-+-+-+-+-+-+\n",
      "|X| |X| | | |*| | | |\n",
      "+-+-+-+-+-+-+-+-+-+-+\n",
      "|X| |X| | | |*| | | |\n",
      "+-+-+-+-+-+-+-+-+-+-+\n",
      "|X| |X| | | |*|*| | |\n",
      "+-+-+-+-+-+-+-+-+-+-+\n",
      "|X| |X| | | | |*| | |\n",
      "+-+-+-+-+-+-+-+-+-+-+\n",
      "|X| |X| | | |*|*| | |\n",
      "+-+-+-+-+-+-+-+-+-+-+\n",
      "|X| |X| | | |*| | | |\n",
      "+-+-+-+-+-+-+-+-+-+-+\n",
      "|X| |X| | | |*| | | |\n",
      "+-+-+-+-+-+-+-+-+-+-+\n",
      "|X| |X| |*|*|*| | | |\n",
      "+-+-+-+-+-+-+-+-+-+-+\n",
      "|G|*|*|*|*| | | | | |\n",
      "+-+-+-+-+-+-+-+-+-+-+\n",
      "\n",
      "Q-Learning\n",
      "Solution:\n",
      "+-+-+-+-+-+-+-+-+-+-+\n",
      "|S|*| | | | | | | | |\n",
      "+-+-+-+-+-+-+-+-+-+-+\n",
      "|X|*|X| | | | | | | |\n",
      "+-+-+-+-+-+-+-+-+-+-+\n",
      "|X|*|X| | | | | | | |\n",
      "+-+-+-+-+-+-+-+-+-+-+\n",
      "|X|*|X| | | | | | | |\n",
      "+-+-+-+-+-+-+-+-+-+-+\n",
      "|X|*|X| | | | | | | |\n",
      "+-+-+-+-+-+-+-+-+-+-+\n",
      "|X|*|X| | | | | | | |\n",
      "+-+-+-+-+-+-+-+-+-+-+\n",
      "|X|*|X| | | | | | | |\n",
      "+-+-+-+-+-+-+-+-+-+-+\n",
      "|X|*|X| | | | | | | |\n",
      "+-+-+-+-+-+-+-+-+-+-+\n",
      "|X|*|X| | | | | | | |\n",
      "+-+-+-+-+-+-+-+-+-+-+\n",
      "|G|*| | | | | | | | |\n",
      "+-+-+-+-+-+-+-+-+-+-+\n",
      "\n"
     ]
    },
    {
     "data": {
      "text/plain": [
       "Text(0, 0.5, 'sum of rewards across each episode')"
      ]
     },
     "execution_count": 175,
     "metadata": {},
     "output_type": "execute_result"
    },
    {
     "data": {
      "image/png": "[encoded data removed]",
      "text/plain": [
       "<Figure size 432x288 with 1 Axes>"
      ]
     },
     "metadata": {
      "needs_background": "light"
     },
     "output_type": "display_data"
    },
    {
     "data": {
      "image/png": "[encoded data removed]",
      "text/plain": [
       "<Figure size 432x288 with 1 Axes>"
      ]
     },
     "metadata": {
      "needs_background": "light"
     },
     "output_type": "display_data"
    }
   ],
   "source": [
    "a = 0.4\n",
    "episodes = 500\n",
    "eps = 0.1\n",
    "Q = np.zeros((len(world4.actions),len(world4.states)))\n",
    "print(\"SARSA\")\n",
    "Qend, rs = sarsa(world4,a,Q,episodes,eps)\n",
    "findroute(Qend,world4)\n",
    "Q = np.zeros((len(world4.actions),len(world4.states)))\n",
    "print(\"Q-Learning\")\n",
    "Qend, rq = Qlearn(world4,a,Q,episodes,0.1)\n",
    "findroute(Qend,world4)\n",
    "\n",
    "plt.figure()\n",
    "plt.plot(np.arange(episodes)+1,rs)\n",
    "plt.title(\"SARSA\")\n",
    "plt.xlabel(\"episodes\")\n",
    "plt.ylabel(\"sum of rewards across each episode\")\n",
    "\n",
    "plt.figure()\n",
    "plt.plot(np.arange(episodes)+1,rq)\n",
    "plt.title(\"Q-learning\")\n",
    "plt.xlabel(\"episodes\")\n",
    "plt.ylabel(\"sum of rewards across each episode\")"
   ]
  },
  {
   "cell_type": "markdown",
   "metadata": {},
   "source": [
    "We see that Q-learning learns the optimal policy as SARSA will take a safer route as before as room is given to explore other routes which is clearly shown based on the structure of the world above which has 2 types of paths, 1 through a dangerous tunnel or outside the tunnel with lots of room for error.\n",
    "\n",
    "Again we observe huge spikes in the SARSA which takes place when a route cannot be found on a specific episode due to the route continously hitting a cliff. SARSA will generally avoid an optimal path if its dangerous like in the world above. Q-learning has more consistent spikes as the optimal path it takes can be percieved as consistently dangerous throughout the path.\n"
   ]
  },
  {
   "cell_type": "code",
   "execution_count": null,
   "metadata": {},
   "outputs": [],
   "source": []
  }
 ],
 "metadata": {
  "anaconda-cloud": {},
  "kernelspec": {
   "display_name": "Python 3",
   "language": "python",
   "name": "python3"
  },
  "language_info": {
   "codemirror_mode": {
    "name": "ipython",
    "version": 3
   },
   "file_extension": ".py",
   "mimetype": "text/x-python",
   "name": "python",
   "nbconvert_exporter": "python",
   "pygments_lexer": "ipython3",
   "version": "3.7.1"
  }
 },
 "nbformat": 4,
 "nbformat_minor": 1
}
